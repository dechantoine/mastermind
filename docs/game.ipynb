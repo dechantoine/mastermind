{
 "cells": [
  {
   "cell_type": "code",
   "execution_count": 1,
   "id": "initial_id",
   "metadata": {
    "collapsed": true,
    "ExecuteTime": {
     "end_time": "2024-09-26T19:39:13.227753Z",
     "start_time": "2024-09-26T19:39:13.088626Z"
    }
   },
   "outputs": [],
   "source": [
    "from src.game import MasterMind"
   ]
  },
  {
   "cell_type": "code",
   "outputs": [],
   "source": [
    "game = MasterMind(n_colors=8,\n",
    "                  len_code=5,\n",
    "                  n_rounds=12\n",
    "                  )"
   ],
   "metadata": {
    "collapsed": false,
    "ExecuteTime": {
     "end_time": "2024-09-26T19:39:14.062238Z",
     "start_time": "2024-09-26T19:39:14.051255Z"
    }
   },
   "id": "561acc15f334acdb",
   "execution_count": 2
  },
  {
   "cell_type": "code",
   "outputs": [
    {
     "data": {
      "text/plain": "{0: {'guess': [0, 1, 2, 3, 4], 'right_positions': 2, 'wrong_positions': 2}}"
     },
     "execution_count": 4,
     "metadata": {},
     "output_type": "execute_result"
    }
   ],
   "source": [
    "game([0, 1, 2, 3, 4])"
   ],
   "metadata": {
    "collapsed": false,
    "ExecuteTime": {
     "end_time": "2024-09-26T19:39:55.005914Z",
     "start_time": "2024-09-26T19:39:55.000127Z"
    }
   },
   "id": "b2c9289dcd04ae81",
   "execution_count": 4
  },
  {
   "cell_type": "code",
   "outputs": [
    {
     "data": {
      "text/plain": "{0: {'guess': [0, 1, 2, 3, 4], 'right_positions': 2, 'wrong_positions': 2},\n 1: {'guess': [5, 6, 7, 6, 7], 'right_positions': 1, 'wrong_positions': 0}}"
     },
     "execution_count": 5,
     "metadata": {},
     "output_type": "execute_result"
    }
   ],
   "source": [
    "game([5, 6, 7, 6, 7])"
   ],
   "metadata": {
    "collapsed": false,
    "ExecuteTime": {
     "end_time": "2024-09-26T19:40:20.422430Z",
     "start_time": "2024-09-26T19:40:20.405864Z"
    }
   },
   "id": "cc9dfa27eb02d0e7",
   "execution_count": 5
  },
  {
   "cell_type": "code",
   "outputs": [
    {
     "data": {
      "text/plain": "{0: {'guess': [0, 1, 2, 3, 4], 'right_positions': 2, 'wrong_positions': 2},\n 1: {'guess': [5, 6, 7, 6, 7], 'right_positions': 1, 'wrong_positions': 0},\n 2: {'guess': [0, 1, 7, 4, 3], 'right_positions': 0, 'wrong_positions': 3}}"
     },
     "execution_count": 6,
     "metadata": {},
     "output_type": "execute_result"
    }
   ],
   "source": [
    "game([0, 1, 7, 4, 3])"
   ],
   "metadata": {
    "collapsed": false,
    "ExecuteTime": {
     "end_time": "2024-09-26T19:42:42.630739Z",
     "start_time": "2024-09-26T19:42:42.626738Z"
    }
   },
   "id": "b99fa2e3c3b7437",
   "execution_count": 6
  }
 ],
 "metadata": {
  "kernelspec": {
   "display_name": "Python 3",
   "language": "python",
   "name": "python3"
  },
  "language_info": {
   "codemirror_mode": {
    "name": "ipython",
    "version": 2
   },
   "file_extension": ".py",
   "mimetype": "text/x-python",
   "name": "python",
   "nbconvert_exporter": "python",
   "pygments_lexer": "ipython2",
   "version": "2.7.6"
  }
 },
 "nbformat": 4,
 "nbformat_minor": 5
}
