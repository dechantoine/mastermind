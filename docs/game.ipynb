{
 "cells": [
  {
   "cell_type": "code",
   "execution_count": 1,
   "id": "initial_id",
   "metadata": {
    "collapsed": true,
    "ExecuteTime": {
     "end_time": "2024-09-27T09:25:48.044658Z",
     "start_time": "2024-09-27T09:25:47.813809Z"
    }
   },
   "outputs": [],
   "source": [
    "from src.game import MasterMind, get_emojis"
   ]
  },
  {
   "cell_type": "markdown",
   "source": [
    "# Game with colors"
   ],
   "metadata": {
    "collapsed": false
   },
   "id": "c5f4c2b85fbdb20b"
  },
  {
   "cell_type": "code",
   "outputs": [],
   "source": [
    "game = MasterMind(n_colors=8,\n",
    "                  len_code=5,\n",
    "                  n_rounds=12,\n",
    "                  use_emojis=True,\n",
    "                  code='🔵🟤🟡🟢🔴' # code will be generated if not provided\n",
    "                  )"
   ],
   "metadata": {
    "collapsed": false,
    "ExecuteTime": {
     "end_time": "2024-09-27T09:25:49.297160Z",
     "start_time": "2024-09-27T09:25:49.291324Z"
    }
   },
   "id": "561acc15f334acdb",
   "execution_count": 2
  },
  {
   "cell_type": "code",
   "outputs": [
    {
     "data": {
      "text/plain": "'🔴🔵🟢🟡⚪⚫🟣🟤'"
     },
     "execution_count": 3,
     "metadata": {},
     "output_type": "execute_result"
    }
   ],
   "source": [
    "get_emojis()"
   ],
   "metadata": {
    "collapsed": false,
    "ExecuteTime": {
     "end_time": "2024-09-27T09:25:50.411189Z",
     "start_time": "2024-09-27T09:25:50.407706Z"
    }
   },
   "id": "67c9605c0b5cfe74",
   "execution_count": 3
  },
  {
   "cell_type": "code",
   "outputs": [
    {
     "data": {
      "text/plain": "{0: {'guess': '🔴🔵🟢🟡⚪', 'right_positions': 0, 'wrong_positions': 4}}"
     },
     "execution_count": 4,
     "metadata": {},
     "output_type": "execute_result"
    }
   ],
   "source": [
    "game('🔴🔵🟢🟡⚪')"
   ],
   "metadata": {
    "collapsed": false,
    "ExecuteTime": {
     "end_time": "2024-09-27T09:25:52.835482Z",
     "start_time": "2024-09-27T09:25:52.828958Z"
    }
   },
   "id": "8acdb2175c4e105d",
   "execution_count": 4
  },
  {
   "cell_type": "code",
   "outputs": [
    {
     "data": {
      "text/plain": "{0: {'guess': '🔴🔵🟢🟡⚪', 'right_positions': 0, 'wrong_positions': 4},\n 1: {'guess': '⚫🟣🟤🟣🟤', 'right_positions': 0, 'wrong_positions': 1}}"
     },
     "execution_count": 5,
     "metadata": {},
     "output_type": "execute_result"
    }
   ],
   "source": [
    "game('⚫🟣🟤🟣🟤')"
   ],
   "metadata": {
    "collapsed": false,
    "ExecuteTime": {
     "end_time": "2024-09-27T09:25:53.467096Z",
     "start_time": "2024-09-27T09:25:53.464743Z"
    }
   },
   "id": "10df4a728af3018b",
   "execution_count": 5
  },
  {
   "cell_type": "code",
   "outputs": [
    {
     "name": "stderr",
     "output_type": "stream",
     "text": [
      "\u001B[32m2024-09-27 11:25:53.983\u001B[0m | \u001B[1mINFO    \u001B[0m | \u001B[36msrc.game\u001B[0m:\u001B[36m_play_turn\u001B[0m:\u001B[36m151\u001B[0m - \u001B[1mCode guessed!\u001B[0m\n"
     ]
    },
    {
     "data": {
      "text/plain": "{0: {'guess': '🔴🔵🟢🟡⚪', 'right_positions': 0, 'wrong_positions': 4},\n 1: {'guess': '⚫🟣🟤🟣🟤', 'right_positions': 0, 'wrong_positions': 1},\n 2: {'guess': '🔵🟤🟡🟢🔴', 'right_positions': 5, 'wrong_positions': 0}}"
     },
     "execution_count": 6,
     "metadata": {},
     "output_type": "execute_result"
    }
   ],
   "source": [
    "game('🔵🟤🟡🟢🔴')"
   ],
   "metadata": {
    "collapsed": false,
    "ExecuteTime": {
     "end_time": "2024-09-27T09:25:53.994170Z",
     "start_time": "2024-09-27T09:25:53.985091Z"
    }
   },
   "id": "dfc431d7cf17bf3a",
   "execution_count": 6
  },
  {
   "cell_type": "code",
   "outputs": [
    {
     "name": "stderr",
     "output_type": "stream",
     "text": [
      "\u001B[32m2024-09-27 11:25:54.602\u001B[0m | \u001B[33m\u001B[1mWARNING \u001B[0m | \u001B[36msrc.game\u001B[0m:\u001B[36m__call__\u001B[0m:\u001B[36m163\u001B[0m - \u001B[33m\u001B[1mGame over.\u001B[0m\n"
     ]
    },
    {
     "data": {
      "text/plain": "{0: {'guess': [0, 1, 2, 3, 4], 'right_positions': 0, 'wrong_positions': 4},\n 1: {'guess': [5, 6, 7, 6, 7], 'right_positions': 0, 'wrong_positions': 1},\n 2: {'guess': [1, 7, 3, 2, 0], 'right_positions': 5, 'wrong_positions': 0}}"
     },
     "execution_count": 7,
     "metadata": {},
     "output_type": "execute_result"
    }
   ],
   "source": [
    "game('🔵🟤🟡🟢🔴')"
   ],
   "metadata": {
    "collapsed": false,
    "ExecuteTime": {
     "end_time": "2024-09-27T09:25:54.612065Z",
     "start_time": "2024-09-27T09:25:54.604103Z"
    }
   },
   "id": "c66ebad7290d96bb",
   "execution_count": 7
  },
  {
   "cell_type": "markdown",
   "source": [
    "# Game with numbers"
   ],
   "metadata": {
    "collapsed": false
   },
   "id": "8a0d58da3ea928d3"
  },
  {
   "cell_type": "code",
   "outputs": [],
   "source": [
    "game = MasterMind(n_colors=8,\n",
    "                  len_code=5,\n",
    "                  n_rounds=12,\n",
    "                  use_emojis=False,\n",
    "                  code=[1,7,3,2,0] # code will be generated if not provided\n",
    "                  )"
   ],
   "metadata": {
    "collapsed": false,
    "ExecuteTime": {
     "end_time": "2024-09-27T09:25:56.665912Z",
     "start_time": "2024-09-27T09:25:56.662326Z"
    }
   },
   "id": "1391d09bb8051533",
   "execution_count": 8
  },
  {
   "cell_type": "code",
   "outputs": [
    {
     "data": {
      "text/plain": "{0: {'guess': [0, 1, 2, 3, 4], 'right_positions': 0, 'wrong_positions': 4}}"
     },
     "execution_count": 9,
     "metadata": {},
     "output_type": "execute_result"
    }
   ],
   "source": [
    "game([0, 1, 2, 3, 4])"
   ],
   "metadata": {
    "collapsed": false,
    "ExecuteTime": {
     "end_time": "2024-09-27T09:25:57.134137Z",
     "start_time": "2024-09-27T09:25:57.128583Z"
    }
   },
   "id": "22ed7a14a87f2ef8",
   "execution_count": 9
  },
  {
   "cell_type": "code",
   "outputs": [
    {
     "data": {
      "text/plain": "{0: {'guess': [0, 1, 2, 3, 4], 'right_positions': 0, 'wrong_positions': 4},\n 1: {'guess': [5, 6, 7, 6, 7], 'right_positions': 0, 'wrong_positions': 1}}"
     },
     "execution_count": 10,
     "metadata": {},
     "output_type": "execute_result"
    }
   ],
   "source": [
    "game([5, 6, 7, 6, 7])"
   ],
   "metadata": {
    "collapsed": false,
    "ExecuteTime": {
     "end_time": "2024-09-27T09:25:57.560365Z",
     "start_time": "2024-09-27T09:25:57.553529Z"
    }
   },
   "id": "30073665d9884cd2",
   "execution_count": 10
  },
  {
   "cell_type": "code",
   "outputs": [
    {
     "name": "stderr",
     "output_type": "stream",
     "text": [
      "\u001B[32m2024-09-27 11:25:58.122\u001B[0m | \u001B[1mINFO    \u001B[0m | \u001B[36msrc.game\u001B[0m:\u001B[36m_play_turn\u001B[0m:\u001B[36m151\u001B[0m - \u001B[1mCode guessed!\u001B[0m\n"
     ]
    },
    {
     "data": {
      "text/plain": "{0: {'guess': [0, 1, 2, 3, 4], 'right_positions': 0, 'wrong_positions': 4},\n 1: {'guess': [5, 6, 7, 6, 7], 'right_positions': 0, 'wrong_positions': 1},\n 2: {'guess': [1, 7, 3, 2, 0], 'right_positions': 5, 'wrong_positions': 0}}"
     },
     "execution_count": 11,
     "metadata": {},
     "output_type": "execute_result"
    }
   ],
   "source": [
    "game([1,7,3,2,0])"
   ],
   "metadata": {
    "collapsed": false,
    "ExecuteTime": {
     "end_time": "2024-09-27T09:25:58.127385Z",
     "start_time": "2024-09-27T09:25:58.123961Z"
    }
   },
   "id": "cbd16981ca5b2772",
   "execution_count": 11
  }
 ],
 "metadata": {
  "kernelspec": {
   "display_name": "Python 3",
   "language": "python",
   "name": "python3"
  },
  "language_info": {
   "codemirror_mode": {
    "name": "ipython",
    "version": 2
   },
   "file_extension": ".py",
   "mimetype": "text/x-python",
   "name": "python",
   "nbconvert_exporter": "python",
   "pygments_lexer": "ipython2",
   "version": "2.7.6"
  }
 },
 "nbformat": 4,
 "nbformat_minor": 5
}
